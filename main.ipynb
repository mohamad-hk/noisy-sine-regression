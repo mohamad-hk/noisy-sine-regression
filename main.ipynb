{
 "cells": [
  {
   "metadata": {
    "ExecuteTime": {
     "end_time": "2025-07-23T18:26:34.735975Z",
     "start_time": "2025-07-23T18:26:16.316076Z"
    }
   },
   "cell_type": "code",
   "source": [
    "import numpy as np\n",
    "from sklearn.model_selection import train_test_split\n",
    "from sklearn.linear_model import LinearRegression\n"
   ],
   "id": "b70a556560adbaf9",
   "outputs": [],
   "execution_count": 1
  },
  {
   "metadata": {
    "ExecuteTime": {
     "end_time": "2025-07-23T18:26:34.799738Z",
     "start_time": "2025-07-23T18:26:34.757148Z"
    }
   },
   "cell_type": "code",
   "source": [
    "X = np.arange(0, 1000, 0.002)\n",
    "y_clean = np.sin(1 * X) + np.sin(1 * X)\n",
    "noise = np.random.uniform(-0.1, 1, size=X.shape)\n",
    "y_noisy = y_clean + noise\n",
    "\n"
   ],
   "id": "fbc121e30a2defb3",
   "outputs": [],
   "execution_count": 2
  },
  {
   "metadata": {
    "ExecuteTime": {
     "end_time": "2025-07-23T18:26:35.414908Z",
     "start_time": "2025-07-23T18:26:35.398796Z"
    }
   },
   "cell_type": "code",
   "source": "X_train, X_test, y_train, y_test = train_test_split(X, y_noisy, train_size=0.8, shuffle=False)",
   "id": "565108d3e18e4411",
   "outputs": [],
   "execution_count": 3
  }
 ],
 "metadata": {
  "kernelspec": {
   "display_name": "Python 3",
   "language": "python",
   "name": "python3"
  },
  "language_info": {
   "codemirror_mode": {
    "name": "ipython",
    "version": 2
   },
   "file_extension": ".py",
   "mimetype": "text/x-python",
   "name": "python",
   "nbconvert_exporter": "python",
   "pygments_lexer": "ipython2",
   "version": "2.7.6"
  }
 },
 "nbformat": 4,
 "nbformat_minor": 5
}

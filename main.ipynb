{
 "cells": [
  {
   "metadata": {},
   "cell_type": "code",
   "source": [
    "import numpy as np\n",
    "from sklearn.model_selection import train_test_split\n",
    "from sklearn.linear_model import LinearRegression\n",
    "import time\n",
    "from sklearn.metrics import mean_squared_error\n",
    "from sklearn.linear_model import Ridge\n",
    "from sklearn.linear_model import Lasso\n",
    "from sklearn.linear_model import ElasticNet\n",
    "from tabulate import tabulate\n",
    "import matplotlib.pyplot as plt"
   ],
   "id": "b70a556560adbaf9",
   "outputs": [],
   "execution_count": null
  },
  {
   "metadata": {},
   "cell_type": "markdown",
   "source": "Create Artificial data",
   "id": "21c281a5f115bc6a"
  },
  {
   "metadata": {},
   "cell_type": "code",
   "source": [
    "X = np.arange(0, 1000, 0.002)\n",
    "y_clean = np.sin(1 * X) + np.sin(1 * X)\n",
    "noise = np.random.uniform(-0.1, 1, size=X.shape)\n",
    "y_noisy = y_clean + noise\n",
    "\n",
    "X1 = X\n",
    "X2 = np.sin(X)\n",
    "X_multi = np.column_stack((X1,X2))\n"
   ],
   "id": "fbc121e30a2defb3",
   "outputs": [],
   "execution_count": null
  },
  {
   "metadata": {},
   "cell_type": "markdown",
   "source": "Split data to train and test data",
   "id": "33d45dcc5a5bea3d"
  },
  {
   "metadata": {},
   "cell_type": "code",
   "source": "X_train, X_test, y_train, y_test = train_test_split(X_multi, y_noisy, train_size=0.8, shuffle=False)",
   "id": "565108d3e18e4411",
   "outputs": [],
   "execution_count": null
  },
  {
   "metadata": {},
   "cell_type": "markdown",
   "source": "Linear Regression",
   "id": "27f3223cfe9808f3"
  },
  {
   "metadata": {},
   "cell_type": "code",
   "source": [
    "model_linear = LinearRegression()\n",
    "\n",
    "model_linear.fit(X_train, y_train)\n",
    "\n",
    "y_pred_train_linear = model_linear.predict(X_train)\n",
    "y_pred_test_linear = model_linear.predict(X_test)\n",
    "\n",
    "start_time = time.time()\n",
    "model_linear.fit(X_train, y_train)\n",
    "end_time = time.time()\n",
    "train_duration_linear = end_time - start_time\n",
    "\n",
    "start_time = time.time()\n",
    "y_pred_train_linear = model_linear.predict(X_train)\n",
    "y_pred_test_linear = model_linear.predict(X_test)\n",
    "end_time = time.time()\n",
    "predict_duration_linear = end_time - start_time\n",
    "\n",
    "mse_train_linear = mean_squared_error(y_train, y_pred_train_linear)\n",
    "mse_test_linear = mean_squared_error(y_test, y_pred_test_linear)\n",
    "\n",
    "sse_train_linear = mse_train_linear * len(y_train)\n",
    "sse_test_linear = mse_test_linear * len(y_test)\n"
   ],
   "id": "59aefef5a1cb2ecc",
   "outputs": [],
   "execution_count": null
  },
  {
   "metadata": {},
   "cell_type": "markdown",
   "source": "Ridge Regression",
   "id": "c2946d631383565"
  },
  {
   "metadata": {},
   "cell_type": "code",
   "source": [
    "model_ridge = Ridge(alpha=0.1)\n",
    "\n",
    "start_time = time.time()\n",
    "model_ridge.fit(X_train, y_train)\n",
    "end_time = time.time()\n",
    "train_duration_ridge = end_time - start_time\n",
    "\n",
    "start_time = time.time()\n",
    "y_pred_train_ridge = model_ridge.predict(X_train)\n",
    "y_pred_test_ridge = model_ridge.predict(X_test)\n",
    "end_time = time.time()\n",
    "predict_duration_ridge = end_time - start_time\n",
    "\n",
    "mse_train_ridge = mean_squared_error(y_train, y_pred_train_ridge)\n",
    "mse_test_ridge = mean_squared_error(y_test, y_pred_test_ridge)\n",
    "\n",
    "sse_train_ridge = np.sum((y_pred_train_ridge - y_train) ** 2)\n",
    "sse_test_ridge = np.sum((y_pred_test_ridge - y_test) ** 2)"
   ],
   "id": "4466eab162a2b384",
   "outputs": [],
   "execution_count": null
  },
  {
   "metadata": {},
   "cell_type": "markdown",
   "source": "Lasso Regression",
   "id": "b8f002dbdbe52ff1"
  },
  {
   "metadata": {},
   "cell_type": "code",
   "source": [
    "model_lasso = Lasso(alpha=0.01)\n",
    "\n",
    "start_time = time.time()\n",
    "model_lasso.fit(X_train, y_train)\n",
    "end_time = time.time()\n",
    "train_duration_lasso = end_time - start_time\n",
    "\n",
    "start_time = time.time()\n",
    "y_pred_train_lasso = model_lasso.predict(X_train)\n",
    "y_pred_test_lasso = model_lasso.predict(X_test)\n",
    "end_time = time.time()\n",
    "predict_duration_lasso = end_time - start_time\n",
    "\n",
    "mse_train_lasso = mean_squared_error(y_train, y_pred_train_lasso)\n",
    "mse_test_lasso = mean_squared_error(y_test, y_pred_test_lasso)\n",
    "\n",
    "sse_train_lasso = np.sum((y_pred_train_lasso - y_train) ** 2)\n",
    "sse_test_lasso = np.sum((y_pred_test_lasso - y_test) ** 2)\n"
   ],
   "id": "e74dbdc88523f7d",
   "outputs": [],
   "execution_count": null
  },
  {
   "metadata": {},
   "cell_type": "markdown",
   "source": "ElasticNet Regression",
   "id": "ca9b0f7d5359b2aa"
  },
  {
   "metadata": {},
   "cell_type": "code",
   "source": [
    "model_elastic = ElasticNet(alpha=0.01, l1_ratio=0.5)\n",
    "\n",
    "start_time = time.time()\n",
    "model_elastic.fit(X_train, y_train)\n",
    "end_time = time.time()\n",
    "train_duration_elastic = end_time - start_time\n",
    "\n",
    "start_time = time.time()\n",
    "y_pred_train_elastic = model_elastic.predict(X_train)\n",
    "y_pred_test_elastic = model_elastic.predict(X_test)\n",
    "end_time = time.time()\n",
    "predict_duration_elastic = end_time - start_time\n",
    "\n",
    "mse_train_elastic = mean_squared_error(y_train, y_pred_train_elastic)\n",
    "mse_test_elastic = mean_squared_error(y_test, y_pred_test_elastic)\n",
    "\n",
    "sse_train_elastic = np.sum((y_pred_train_elastic - y_train) ** 2)\n",
    "sse_test_elastic = np.sum((y_pred_test_elastic - y_test) ** 2)"
   ],
   "id": "8189682f4198bf23",
   "outputs": [],
   "execution_count": null
  },
  {
   "metadata": {},
   "cell_type": "markdown",
   "source": "Compare Prediction with real signal",
   "id": "d1f6a39769ec1a03"
  },
  {
   "metadata": {},
   "cell_type": "code",
   "source": [
    "results_table = [\n",
    "    [\"Linear\",     mse_train_linear, mse_test_linear, sse_train_linear, sse_test_linear, train_duration_linear, predict_duration_linear],\n",
    "    [\"Ridge\",      mse_train_ridge,  mse_test_ridge,  sse_train_ridge,  sse_test_ridge,  train_duration_ridge,  predict_duration_ridge],\n",
    "    [\"Lasso\",      mse_train_lasso,  mse_test_lasso,  sse_train_lasso,  sse_test_lasso,  train_duration_lasso,  predict_duration_lasso],\n",
    "    [\"ElasticNet\", mse_train_elastic,mse_test_elastic,sse_train_elastic,sse_test_elastic,train_duration_elastic,predict_duration_elastic]\n",
    "]\n",
    "\n",
    "print(tabulate(\n",
    "    results_table,\n",
    "    headers=[\"Model\", \"MSE Train\", \"MSE Test\", \"SSE Train\", \"SSE Test\", \"Train Time (s)\", \"Predict Time (s)\"],\n",
    "    floatfmt=\".4f\",\n",
    "    stralign=\"center\",\n",
    "    numalign=\"center\"\n",
    "))"
   ],
   "id": "f6829d08862cdd8e",
   "outputs": [],
   "execution_count": null
  },
  {
   "metadata": {},
   "cell_type": "code",
   "source": [
    "sample = np.arange(0, 5000, 5)\n",
    "\n",
    "model_names = [\"Linear\", \"Ridge\", \"Lasso\", \"ElasticNet\"]\n",
    "model_prediction = [y_pred_test_linear, y_pred_test_ridge, y_pred_test_lasso, y_pred_test_elastic]\n",
    "\n",
    "fig, axes = plt.subplots(4, 1, figsize=(12, 12), sharex=True)\n",
    "\n",
    "for i in range(4):\n",
    "    axes[i].plot(sample, y_test[sample], label=\"Real\", color='black')\n",
    "    axes[i].plot(sample, model_prediction[i][sample], label=model_names[i])\n",
    "    axes[i].set_title(f\"{model_names[i]} Regression\")\n",
    "    axes[i].legend()\n",
    "    axes[i].grid(True)\n",
    "\n",
    "plt.xlabel(\"Index\")\n",
    "plt.show()\n"
   ],
   "id": "34a45a590198cfae",
   "outputs": [],
   "execution_count": null
  }
 ],
 "metadata": {
  "kernelspec": {
   "display_name": "Python 3",
   "language": "python",
   "name": "python3"
  },
  "language_info": {
   "codemirror_mode": {
    "name": "ipython",
    "version": 2
   },
   "file_extension": ".py",
   "mimetype": "text/x-python",
   "name": "python",
   "nbconvert_exporter": "python",
   "pygments_lexer": "ipython2",
   "version": "2.7.6"
  }
 },
 "nbformat": 4,
 "nbformat_minor": 5
}

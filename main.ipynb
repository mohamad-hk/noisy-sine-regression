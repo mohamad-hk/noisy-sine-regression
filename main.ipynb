{
 "cells": [
  {
   "metadata": {
    "ExecuteTime": {
     "end_time": "2025-07-23T18:37:29.643804Z",
     "start_time": "2025-07-23T18:37:29.633454Z"
    }
   },
   "cell_type": "code",
   "source": [
    "import numpy as np\n",
    "from sklearn.model_selection import train_test_split\n",
    "from sklearn.linear_model import LinearRegression\n",
    "import time\n",
    "from sklearn.metrics import mean_squared_error\n",
    "from sklearn.linear_model import Ridge\n",
    "from sklearn.linear_model import Lasso\n",
    "from sklearn.linear_model import ElasticNet"
   ],
   "id": "b70a556560adbaf9",
   "outputs": [],
   "execution_count": 8
  },
  {
   "metadata": {
    "ExecuteTime": {
     "end_time": "2025-07-23T18:37:29.726841Z",
     "start_time": "2025-07-23T18:37:29.698731Z"
    }
   },
   "cell_type": "code",
   "source": [
    "X = np.arange(0, 1000, 0.002)\n",
    "y_clean = np.sin(1 * X) + np.sin(1 * X)\n",
    "noise = np.random.uniform(-0.1, 1, size=X.shape)\n",
    "y_noisy = y_clean + noise\n",
    "\n"
   ],
   "id": "fbc121e30a2defb3",
   "outputs": [],
   "execution_count": 9
  },
  {
   "metadata": {
    "ExecuteTime": {
     "end_time": "2025-07-23T18:37:29.796614Z",
     "start_time": "2025-07-23T18:37:29.762292Z"
    }
   },
   "cell_type": "code",
   "source": [
    "X_train, X_test, y_train, y_test = train_test_split(X, y_noisy, train_size=0.8, shuffle=False)\n",
    "\n",
    "X_train_reshaped = X_train.reshape(-1, 1)\n",
    "X_test_reshaped = X_test.reshape(-1, 1)\n"
   ],
   "id": "565108d3e18e4411",
   "outputs": [],
   "execution_count": 10
  },
  {
   "metadata": {
    "ExecuteTime": {
     "end_time": "2025-07-23T18:37:29.861368Z",
     "start_time": "2025-07-23T18:37:29.833349Z"
    }
   },
   "cell_type": "code",
   "source": [
    "model_linear = LinearRegression()\n",
    "\n",
    "start_time = time.time()\n",
    "model_linear.fit(X_train_reshaped, y_train)\n",
    "end_time = time.time()\n",
    "train_duration_linear = end_time - start_time\n",
    "\n",
    "start_time = time.time()\n",
    "y_pred_train_linear = model_linear.predict(X_train_reshaped)\n",
    "y_pred_test_linear = model_linear.predict(X_test_reshaped)\n",
    "end_time = time.time()\n",
    "predict_duration_linear = end_time - start_time\n",
    "\n",
    "mse_train_linear = mean_squared_error(y_train, y_pred_train_linear)\n",
    "mse_test_linear = mean_squared_error(y_test, y_pred_test_linear)\n",
    "\n",
    "sse_train_linear = mse_train_linear * len(y_train)\n",
    "sse_test_linear = mse_test_linear * len(y_test)\n"
   ],
   "id": "59aefef5a1cb2ecc",
   "outputs": [],
   "execution_count": 11
  },
  {
   "metadata": {
    "ExecuteTime": {
     "end_time": "2025-07-23T18:37:29.924220Z",
     "start_time": "2025-07-23T18:37:29.896559Z"
    }
   },
   "cell_type": "code",
   "source": [
    "model_ridge = Ridge(alpha=1.0)\n",
    "\n",
    "X_train_reshaped = X_train.reshape(-1, 1)\n",
    "X_test_reshaped = X_test.reshape(-1, 1)\n",
    "\n",
    "\n",
    "start_time = time.time()\n",
    "model_ridge.fit(X_train_reshaped, y_train)\n",
    "end_time = time.time()\n",
    "train_duration_ridge = end_time - start_time\n",
    "\n",
    "start_time = time.time()\n",
    "y_pred_train_ridge = model_ridge.predict(X_train_reshaped)\n",
    "y_pred_test_ridge = model_ridge.predict(X_test_reshaped)\n",
    "end_time = time.time()\n",
    "predict_duration_ridge = end_time - start_time\n",
    "\n",
    "mse_train_ridge = mean_squared_error(y_train, y_pred_train_ridge)\n",
    "mse_test_ridge = mean_squared_error(y_test, y_pred_test_ridge)\n",
    "\n",
    "sse_train_ridge = np.sum((y_pred_train_ridge - y_train) ** 2)\n",
    "sse_test_ridge = np.sum((y_pred_test_ridge - y_test) ** 2)\n"
   ],
   "id": "88facb315c3512e2",
   "outputs": [],
   "execution_count": 12
  },
  {
   "metadata": {
    "ExecuteTime": {
     "end_time": "2025-07-23T18:37:29.988020Z",
     "start_time": "2025-07-23T18:37:29.958437Z"
    }
   },
   "cell_type": "code",
   "source": [
    "model_lasso = Lasso(alpha=0.1)\n",
    "\n",
    "start_time = time.time()\n",
    "model_lasso.fit(X_train_reshaped, y_train)\n",
    "end_time = time.time()\n",
    "train_duration_lasso = end_time - start_time\n",
    "\n",
    "start_time = time.time()\n",
    "y_pred_train_lasso = model_lasso.predict(X_train_reshaped)\n",
    "y_pred_test_lasso = model_lasso.predict(X_test_reshaped)\n",
    "end_time = time.time()\n",
    "predict_duration_lasso = end_time - start_time\n",
    "\n",
    "mse_train_lasso = mean_squared_error(y_train, y_pred_train_lasso)\n",
    "mse_test_lasso = mean_squared_error(y_test, y_pred_test_lasso)\n",
    "\n",
    "sse_train_lasso = np.sum((y_pred_train_lasso - y_train) ** 2)\n",
    "sse_test_lasso = np.sum((y_pred_test_lasso - y_test) ** 2)"
   ],
   "id": "d49ca23475e74644",
   "outputs": [],
   "execution_count": 13
  },
  {
   "metadata": {
    "ExecuteTime": {
     "end_time": "2025-07-23T18:37:30.060722Z",
     "start_time": "2025-07-23T18:37:30.025883Z"
    }
   },
   "cell_type": "code",
   "source": [
    "model_elastic = ElasticNet(alpha=0.1, l1_ratio=0.5)\n",
    "\n",
    "start_time = time.time()\n",
    "model_elastic.fit(X_train_reshaped, y_train)\n",
    "end_time = time.time()\n",
    "train_duration_elastic = end_time - start_time\n",
    "\n",
    "start_time = time.time()\n",
    "y_pred_train_elastic = model_elastic.predict(X_train_reshaped)\n",
    "y_pred_test_elastic = model_elastic.predict(X_test_reshaped)\n",
    "end_time = time.time()\n",
    "predict_duration_elastic = end_time - start_time\n",
    "\n",
    "mse_train_elastic = mean_squared_error(y_train, y_pred_train_elastic)\n",
    "mse_test_elastic = mean_squared_error(y_test, y_pred_test_elastic)\n",
    "\n",
    "sse_train_elastic = np.sum((y_pred_train_elastic - y_train) ** 2)\n",
    "sse_test_elastic = np.sum((y_pred_test_elastic - y_test) ** 2)\n"
   ],
   "id": "8189682f4198bf23",
   "outputs": [],
   "execution_count": 14
  }
 ],
 "metadata": {
  "kernelspec": {
   "display_name": "Python 3",
   "language": "python",
   "name": "python3"
  },
  "language_info": {
   "codemirror_mode": {
    "name": "ipython",
    "version": 2
   },
   "file_extension": ".py",
   "mimetype": "text/x-python",
   "name": "python",
   "nbconvert_exporter": "python",
   "pygments_lexer": "ipython2",
   "version": "2.7.6"
  }
 },
 "nbformat": 4,
 "nbformat_minor": 5
}
